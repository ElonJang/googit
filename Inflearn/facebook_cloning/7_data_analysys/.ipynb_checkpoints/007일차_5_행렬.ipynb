{
 "cells": [
  {
   "cell_type": "markdown",
   "metadata": {},
   "source": [
    "# 행렬"
   ]
  },
  {
   "cell_type": "code",
   "execution_count": 1,
   "metadata": {},
   "outputs": [
    {
     "data": {
      "text/plain": [
       "6"
      ]
     },
     "execution_count": 1,
     "metadata": {},
     "output_type": "execute_result"
    }
   ],
   "source": [
    "l = [[1, 2, 3],\n",
    "     [4, 5, 6],\n",
    "     [7, 8, 9]]\n",
    "\n",
    "l[1][2]"
   ]
  },
  {
   "cell_type": "code",
   "execution_count": 2,
   "metadata": {},
   "outputs": [
    {
     "name": "stdout",
     "output_type": "stream",
     "text": [
      "2\n",
      "(3, 3)\n",
      "4\n",
      "(1, 1, 1, 7)\n"
     ]
    }
   ],
   "source": [
    "import numpy as np\n",
    "\n",
    "matrix = np.array(l)\n",
    "print(matrix.ndim)\n",
    "print(matrix.shape)\n",
    "# test = 3  # 스칼라\n",
    "test= [[[[3, 2, 1, 3, 5, 4, 2]]]] # 괄호 개수 = 차원 수\n",
    "test_matrix = np.array(test)\n",
    "print(test_matrix.ndim)\n",
    "print(test_matrix.shape)"
   ]
  },
  {
   "cell_type": "code",
   "execution_count": 3,
   "metadata": {},
   "outputs": [
    {
     "name": "stdout",
     "output_type": "stream",
     "text": [
      "[[[ 0  1  2  3  4]\n",
      "  [ 5  6  7  8  9]\n",
      "  [10 11 12 13 14]]\n",
      "\n",
      " [[15 16 17 18 19]\n",
      "  [20 21 22 23 24]\n",
      "  [25 26 27 28 29]]]\n",
      "8\n"
     ]
    }
   ],
   "source": [
    "matrix = np.arange(30).reshape(2, 3, 5)\n",
    "print(matrix)\n",
    "print(matrix[0][1][3])"
   ]
  },
  {
   "cell_type": "code",
   "execution_count": 4,
   "metadata": {},
   "outputs": [
    {
     "data": {
      "text/plain": [
       "array([[[ 0,  2,  4,  6,  8],\n",
       "        [10, 12, 14, 16, 18],\n",
       "        [20, 22, 24, 26, 28]],\n",
       "\n",
       "       [[30, 32, 34, 36, 38],\n",
       "        [40, 42, 44, 46, 48],\n",
       "        [50, 52, 54, 56, 58]]])"
      ]
     },
     "execution_count": 4,
     "metadata": {},
     "output_type": "execute_result"
    }
   ],
   "source": [
    "matrix + matrix"
   ]
  },
  {
   "cell_type": "code",
   "execution_count": 5,
   "metadata": {},
   "outputs": [
    {
     "data": {
      "text/plain": [
       "array([[[ 0,  2,  4,  6,  8],\n",
       "        [10, 12, 14, 16, 18],\n",
       "        [20, 22, 24, 26, 28]],\n",
       "\n",
       "       [[30, 32, 34, 36, 38],\n",
       "        [40, 42, 44, 46, 48],\n",
       "        [50, 52, 54, 56, 58]]])"
      ]
     },
     "execution_count": 5,
     "metadata": {},
     "output_type": "execute_result"
    }
   ],
   "source": [
    "matrix * 2"
   ]
  },
  {
   "cell_type": "code",
   "execution_count": 6,
   "metadata": {
    "scrolled": true
   },
   "outputs": [
    {
     "name": "stdout",
     "output_type": "stream",
     "text": [
      "[[ 0  1  2  3  4]\n",
      " [ 5  6  7  8  9]\n",
      " [10 11 12 13 14]]\n"
     ]
    }
   ],
   "source": [
    "matrix = np.arange(15).reshape(3, 5)\n",
    "print(matrix)"
   ]
  },
  {
   "cell_type": "code",
   "execution_count": 7,
   "metadata": {},
   "outputs": [
    {
     "name": "stdout",
     "output_type": "stream",
     "text": [
      "[[ 0  2  4  6  8]\n",
      " [10 12 14 16 18]\n",
      " [20 22 24 26 28]]\n",
      "[[0.  0.5 1.  1.5 2. ]\n",
      " [2.5 3.  3.5 4.  4.5]\n",
      " [5.  5.5 6.  6.5 7. ]]\n",
      "[[ 2  3  4  5  6]\n",
      " [ 7  8  9 10 11]\n",
      " [12 13 14 15 16]]\n",
      "[[-2 -1  0  1  2]\n",
      " [ 3  4  5  6  7]\n",
      " [ 8  9 10 11 12]]\n"
     ]
    }
   ],
   "source": [
    "print(matrix * 2)\n",
    "print(matrix / 2)\n",
    "print(matrix + 2)\n",
    "print(matrix - 2)"
   ]
  },
  {
   "cell_type": "code",
   "execution_count": 8,
   "metadata": {},
   "outputs": [
    {
     "data": {
      "text/plain": [
       "array([[0., 0., 0., 0.],\n",
       "       [0., 0., 0., 0.],\n",
       "       [0., 0., 0., 0.]])"
      ]
     },
     "execution_count": 8,
     "metadata": {},
     "output_type": "execute_result"
    }
   ],
   "source": [
    "test = np.zeros((3,4))\n",
    "test"
   ]
  },
  {
   "cell_type": "markdown",
   "metadata": {},
   "source": [
    "# 행렬의 연산"
   ]
  },
  {
   "cell_type": "markdown",
   "metadata": {},
   "source": [
    "## 행렬의 곱셈\n",
    "<pre>\n",
    "  키보드   마우스\n",
    "S  5000     8000\n",
    "L  7000     3000\n",
    "\n",
    "        바울랩\n",
    "키보드    31\n",
    "마우스    40\n",
    "\n",
    "5000*31 + 8000*40\n",
    "7000*31 + 3000*40\n",
    "</pre>"
   ]
  },
  {
   "cell_type": "code",
   "execution_count": 9,
   "metadata": {},
   "outputs": [
    {
     "name": "stdout",
     "output_type": "stream",
     "text": [
      "[[475000]\n",
      " [337000]]\n",
      "475000\n",
      "337000\n"
     ]
    }
   ],
   "source": [
    "x = np.array([[5000, 8000],\n",
    "              [7000, 3000]])\n",
    "y = np.array([[31],\n",
    "              [40]])\n",
    "print(x @ y)\n",
    "print(5000*31 + 8000*40)\n",
    "print(7000*31 + 3000*40)"
   ]
  },
  {
   "cell_type": "markdown",
   "metadata": {},
   "source": [
    "오리와 양의 머리수 7\n",
    "오리와 양의 다리수 22\n",
    "\n",
    "이 문제를 행렬로 풀어보세요.\n",
    "\n",
    "1x + 1y = 7\n",
    "2x + 4y = 22\n",
    "\n",
    "1 1  x  7\n",
    "2 4  y  22"
   ]
  },
  {
   "cell_type": "code",
   "execution_count": 10,
   "metadata": {},
   "outputs": [
    {
     "name": "stdout",
     "output_type": "stream",
     "text": [
      "[[4 6 8]\n",
      " [8 7 1]\n",
      " [4 1 2]]\n",
      "[[ 1.00000000e+00  0.00000000e+00  0.00000000e+00]\n",
      " [ 5.55111512e-17  1.00000000e+00  3.88578059e-16]\n",
      " [-2.77555756e-17  1.11022302e-16  1.00000000e+00]]\n"
     ]
    }
   ],
   "source": [
    "x = np.random.randint(1, 10, size=[3, 3])\n",
    "print(x)\n",
    "y = np.linalg.inv(x)\n",
    "print(x @ y)"
   ]
  },
  {
   "cell_type": "code",
   "execution_count": 11,
   "metadata": {},
   "outputs": [
    {
     "name": "stdout",
     "output_type": "stream",
     "text": [
      "[[3.]\n",
      " [4.]]\n"
     ]
    }
   ],
   "source": [
    "x = np.array([[1, 1], [2, 4]])\n",
    "y = np.linalg.inv(x)\n",
    "z = np.array([[7], [22]])\n",
    "\n",
    "print(y @ z)"
   ]
  },
  {
   "cell_type": "code",
   "execution_count": 12,
   "metadata": {},
   "outputs": [
    {
     "name": "stdout",
     "output_type": "stream",
     "text": [
      "[[ 0  1  2  3  4]\n",
      " [ 5  6  7  8  9]\n",
      " [10 11 12 13 14]]\n"
     ]
    }
   ],
   "source": [
    "matrix = np.arange(15).reshape(3, 5)\n",
    "print(matrix)"
   ]
  },
  {
   "cell_type": "code",
   "execution_count": 13,
   "metadata": {},
   "outputs": [
    {
     "name": "stdout",
     "output_type": "stream",
     "text": [
      "[15 18 21 24 27]\n",
      "105\n",
      "[15 18 21 24 27]\n",
      "[10 35 60]\n"
     ]
    },
    {
     "data": {
      "image/png": "[encoded data removed]",
      "text/plain": [
       "<Figure size 432x288 with 1 Axes>"
      ]
     },
     "metadata": {
      "needs_background": "light"
     },
     "output_type": "display_data"
    }
   ],
   "source": [
    "%matplotlib inline\n",
    "import matplotlib.pyplot as plt\n",
    "\n",
    "print(sum(matrix))\n",
    "print(np.sum(matrix))\n",
    "print(np.sum(matrix, axis=0))\n",
    "print(np.sum(matrix, axis=1))\n",
    "\n",
    "student = np.sum(matrix, axis=1)\n",
    "plt.bar([1,2,3],student)\n",
    "plt.show()"
   ]
  },
  {
   "cell_type": "code",
   "execution_count": 14,
   "metadata": {},
   "outputs": [
    {
     "name": "stdout",
     "output_type": "stream",
     "text": [
      "[ 6  7  8  9 10 11 12 13 14]\n",
      "[ 0  2  4  6  8 10 12 14]\n",
      "7\n",
      "7\n",
      "[[ True False  True False  True]\n",
      " [False  True False  True False]\n",
      " [ True False  True False  True]]\n",
      "[ 0  2  4  6  8 10 12 14]\n"
     ]
    }
   ],
   "source": [
    "print(matrix[matrix > 5])\n",
    "print(matrix[matrix % 2 == 0])\n",
    "print(matrix[1][2])\n",
    "print(matrix[1, 2])\n",
    "mask = matrix % 2 == 0\n",
    "print(mask)\n",
    "print(matrix[mask])"
   ]
  }
 ],
 "metadata": {
  "kernelspec": {
   "display_name": "Python 3",
   "language": "python",
   "name": "python3"
  },
  "language_info": {
   "codemirror_mode": {
    "name": "ipython",
    "version": 3
   },
   "file_extension": ".py",
   "mimetype": "text/x-python",
   "name": "python",
   "nbconvert_exporter": "python",
   "pygments_lexer": "ipython3",
   "version": "3.7.6"
  }
 },
 "nbformat": 4,
 "nbformat_minor": 4
}
