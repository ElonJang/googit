{
 "cells": [
  {
   "cell_type": "markdown",
   "metadata": {},
   "source": [
    "# multiIndex"
   ]
  },
  {
   "cell_type": "code",
   "execution_count": 3,
   "metadata": {},
   "outputs": [],
   "source": [
    "매출 = {\n",
    "    '2015년':1000000,\n",
    "    '2016년':2000000,\n",
    "    '2017년':3000000,\n",
    "    '2018년':4000000,\n",
    "    '2019년':11000000,\n",
    "    '2020년':30000000,\n",
    "}\n",
    "순익 = {\n",
    "    '2015년':100001,\n",
    "    '2016년':200001,\n",
    "    '2017년':300001,\n",
    "    '2018년':400001,\n",
    "    '2019년':1100001,\n",
    "    '2020년':3000001,\n",
    "}"
   ]
  },
  {
   "cell_type": "markdown",
   "metadata": {},
   "source": [
    "매출'2015년':1000000,\n",
    "    '2016년':2000000,\n",
    "    '2017년':3000000,\n",
    "    '2018년':4000000,\n",
    "    '2019년':11000000,\n",
    "    '2020년':30000000,\n",
    "        \n",
    "순익'2015년':100001,\n",
    "    '2016년':200001,\n",
    "    '2017년':300001,\n",
    "    '2018년':400001,\n",
    "    '2019년':1100001,\n",
    "    '2020년':3000001,"
   ]
  },
  {
   "cell_type": "code",
   "execution_count": 17,
   "metadata": {},
   "outputs": [
    {
     "data": {
      "text/plain": [
       "[('매출', '2015년'),\n",
       " ('매출', '2016년'),\n",
       " ('매출', '2017년'),\n",
       " ('매출', '2018년'),\n",
       " ('매출', '2019년'),\n",
       " ('매출', '2020년'),\n",
       " ('순익', '2015년'),\n",
       " ('순익', '2016년'),\n",
       " ('순익', '2017년'),\n",
       " ('순익', '2018년'),\n",
       " ('순익', '2019년'),\n",
       " ('순익', '2020년')]"
      ]
     },
     "execution_count": 17,
     "metadata": {},
     "output_type": "execute_result"
    }
   ],
   "source": [
    "indexOne = list(zip(['매출' for i in range(len(매출.keys()))], 매출.keys()))\n",
    "indexTwo = list(zip(['순익' for i in range(len(매출.keys()))], 매출.keys()))\n",
    "index = indexOne + indexTwo\n",
    "index"
   ]
  },
  {
   "cell_type": "code",
   "execution_count": 19,
   "metadata": {},
   "outputs": [],
   "source": [
    "import pandas as pd"
   ]
  },
  {
   "cell_type": "code",
   "execution_count": 20,
   "metadata": {},
   "outputs": [
    {
     "data": {
      "text/plain": [
       "MultiIndex([('매출', '2015년'),\n",
       "            ('매출', '2016년'),\n",
       "            ('매출', '2017년'),\n",
       "            ('매출', '2018년'),\n",
       "            ('매출', '2019년'),\n",
       "            ('매출', '2020년'),\n",
       "            ('순익', '2015년'),\n",
       "            ('순익', '2016년'),\n",
       "            ('순익', '2017년'),\n",
       "            ('순익', '2018년'),\n",
       "            ('순익', '2019년'),\n",
       "            ('순익', '2020년')],\n",
       "           )"
      ]
     },
     "execution_count": 20,
     "metadata": {},
     "output_type": "execute_result"
    }
   ],
   "source": [
    "index = pd.MultiIndex.from_tuples(index)\n",
    "index"
   ]
  },
  {
   "cell_type": "code",
   "execution_count": 26,
   "metadata": {},
   "outputs": [
    {
     "data": {
      "text/plain": [
       "[1000000,\n",
       " 2000000,\n",
       " 3000000,\n",
       " 4000000,\n",
       " 11000000,\n",
       " 30000000,\n",
       " 100001,\n",
       " 200001,\n",
       " 300001,\n",
       " 400001,\n",
       " 1100001,\n",
       " 3000001]"
      ]
     },
     "execution_count": 26,
     "metadata": {},
     "output_type": "execute_result"
    }
   ],
   "source": [
    "값 = list(매출.values()) + list(순익.values())\n",
    "\n",
    "매출.values()\n",
    "순익.values()\n",
    "값"
   ]
  },
  {
   "cell_type": "code",
   "execution_count": 27,
   "metadata": {},
   "outputs": [
    {
     "data": {
      "text/plain": [
       "매출  2015년     1000000\n",
       "    2016년     2000000\n",
       "    2017년     3000000\n",
       "    2018년     4000000\n",
       "    2019년    11000000\n",
       "    2020년    30000000\n",
       "순익  2015년      100001\n",
       "    2016년      200001\n",
       "    2017년      300001\n",
       "    2018년      400001\n",
       "    2019년     1100001\n",
       "    2020년     3000001\n",
       "dtype: int64"
      ]
     },
     "execution_count": 27,
     "metadata": {},
     "output_type": "execute_result"
    }
   ],
   "source": [
    "result = pd.Series(값, index=index)\n",
    "result"
   ]
  },
  {
   "cell_type": "code",
   "execution_count": 28,
   "metadata": {},
   "outputs": [
    {
     "data": {
      "text/plain": [
       "4500003"
      ]
     },
     "execution_count": 28,
     "metadata": {},
     "output_type": "execute_result"
    }
   ],
   "source": [
    "result['매출'].sum()\n",
    "result['순익'][-3:].sum()"
   ]
  },
  {
   "cell_type": "code",
   "execution_count": 29,
   "metadata": {},
   "outputs": [
    {
     "data": {
      "text/plain": [
       "2018년     400001\n",
       "2019년    1100001\n",
       "2020년    3000001\n",
       "dtype: int64"
      ]
     },
     "execution_count": 29,
     "metadata": {},
     "output_type": "execute_result"
    }
   ],
   "source": [
    "result['순익'][-3:]"
   ]
  },
  {
   "cell_type": "code",
   "execution_count": null,
   "metadata": {},
   "outputs": [],
   "source": []
  }
 ],
 "metadata": {
  "kernelspec": {
   "display_name": "Python 3",
   "language": "python",
   "name": "python3"
  },
  "language_info": {
   "codemirror_mode": {
    "name": "ipython",
    "version": 3
   },
   "file_extension": ".py",
   "mimetype": "text/x-python",
   "name": "python",
   "nbconvert_exporter": "python",
   "pygments_lexer": "ipython3",
   "version": "3.7.4"
  }
 },
 "nbformat": 4,
 "nbformat_minor": 4
}
