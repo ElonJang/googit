{
 "cells": [
  {
   "cell_type": "code",
   "execution_count": 4,
   "id": "meaningful-salmon",
   "metadata": {},
   "outputs": [],
   "source": [
    "import os\n",
    "\n",
    "#manage.py 참고하세요\n",
    "os.environ['DJANGO_SETTINGS_MODULE'] = 'tutorialdjango.settings'\n",
    "os.environ['DJANGO_ALLOW_ASYNC_UNSAFE'] = 'true'"
   ]
  },
  {
   "cell_type": "code",
   "execution_count": 5,
   "id": "numerous-space",
   "metadata": {},
   "outputs": [],
   "source": [
    "import django\n",
    "\n",
    "django.setup()"
   ]
  },
  {
   "cell_type": "code",
   "execution_count": 6,
   "id": "charged-creek",
   "metadata": {},
   "outputs": [],
   "source": [
    "from main.models import Cafe"
   ]
  },
  {
   "cell_type": "code",
   "execution_count": 7,
   "id": "fancy-award",
   "metadata": {},
   "outputs": [
    {
     "data": {
      "text/plain": [
       "<QuerySet [<Cafe: cafename1>, <Cafe: cafename2>, <Cafe: cafename3>]>"
      ]
     },
     "execution_count": 7,
     "metadata": {},
     "output_type": "execute_result"
    }
   ],
   "source": [
    "Cafe.objects.all()"
   ]
  },
  {
   "cell_type": "code",
   "execution_count": 8,
   "id": "younger-anxiety",
   "metadata": {},
   "outputs": [
    {
     "data": {
      "text/plain": [
       "<QuerySet [<Cafe: cafename1>, <Cafe: cafename2>]>"
      ]
     },
     "execution_count": 8,
     "metadata": {},
     "output_type": "execute_result"
    }
   ],
   "source": [
    "Cafe.objects.all()[:2]"
   ]
  },
  {
   "cell_type": "code",
   "execution_count": 9,
   "id": "spectacular-peninsula",
   "metadata": {},
   "outputs": [
    {
     "name": "stdout",
     "output_type": "stream",
     "text": [
      "cafename1\n",
      "cafecontent1\n",
      "2021-01-16 09:57:55.522236+00:00\n",
      "cafename2\n",
      "cafecontent2\n",
      "2021-01-16 10:00:17.326874+00:00\n",
      "cafename3\n",
      "cafecontent3\n",
      "2021-01-16 10:00:26.376238+00:00\n"
     ]
    }
   ],
   "source": [
    "for i in Cafe.objects.all():\n",
    "    print(i.name)\n",
    "    print(i.content)\n",
    "    print(i.created)"
   ]
  },
  {
   "cell_type": "code",
   "execution_count": 11,
   "id": "mobile-reunion",
   "metadata": {},
   "outputs": [
    {
     "data": {
      "text/plain": [
       "<QuerySet [<Cafe: cafename1>]>"
      ]
     },
     "execution_count": 11,
     "metadata": {},
     "output_type": "execute_result"
    }
   ],
   "source": [
    "Cafe.objects.all().filter(name='cafename1')"
   ]
  },
  {
   "cell_type": "code",
   "execution_count": 13,
   "id": "alike-fairy",
   "metadata": {},
   "outputs": [
    {
     "data": {
      "text/plain": [
       "<QuerySet [<Cafe: cafename2>]>"
      ]
     },
     "execution_count": 13,
     "metadata": {},
     "output_type": "execute_result"
    }
   ],
   "source": [
    "Cafe.objects.all().filter(name='cafename2')"
   ]
  },
  {
   "cell_type": "code",
   "execution_count": 14,
   "id": "isolated-brother",
   "metadata": {},
   "outputs": [
    {
     "data": {
      "text/plain": [
       "<QuerySet [<Cafe: cafename1>]>"
      ]
     },
     "execution_count": 14,
     "metadata": {},
     "output_type": "execute_result"
    }
   ],
   "source": [
    "Cafe.objects.all().filter(name='cafename1', content='cafecontent1')"
   ]
  },
  {
   "cell_type": "code",
   "execution_count": 17,
   "id": "molecular-simulation",
   "metadata": {},
   "outputs": [
    {
     "data": {
      "text/plain": [
       "<QuerySet [<Cafe: cafename1>]>"
      ]
     },
     "execution_count": 17,
     "metadata": {},
     "output_type": "execute_result"
    }
   ],
   "source": [
    "Cafe.objects.all().filter(name='cafename1', content='cafecontent1')"
   ]
  },
  {
   "cell_type": "code",
   "execution_count": 19,
   "id": "straight-capability",
   "metadata": {},
   "outputs": [
    {
     "data": {
      "text/plain": [
       "<QuerySet [<Cafe: cafename1>, <Cafe: cafename2>, <Cafe: cafename3>]>"
      ]
     },
     "execution_count": 19,
     "metadata": {},
     "output_type": "execute_result"
    }
   ],
   "source": [
    "Cafe.objects.all().filter(name__contains='cafe')"
   ]
  },
  {
   "cell_type": "code",
   "execution_count": null,
   "id": "postal-france",
   "metadata": {},
   "outputs": [],
   "source": []
  }
 ],
 "metadata": {
  "kernelspec": {
   "display_name": "Python 3",
   "language": "python",
   "name": "python3"
  },
  "language_info": {
   "codemirror_mode": {
    "name": "ipython",
    "version": 3
   },
   "file_extension": ".py",
   "mimetype": "text/x-python",
   "name": "python",
   "nbconvert_exporter": "python",
   "pygments_lexer": "ipython3",
   "version": "3.7.4"
  }
 },
 "nbformat": 4,
 "nbformat_minor": 5
}
