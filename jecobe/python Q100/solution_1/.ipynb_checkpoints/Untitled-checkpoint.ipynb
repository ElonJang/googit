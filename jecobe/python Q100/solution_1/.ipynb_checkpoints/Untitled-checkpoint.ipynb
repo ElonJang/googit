{
 "cells": [
  {
   "cell_type": "markdown",
   "metadata": {},
   "source": [
    "Q1.리스트의 삭제\n",
    "다음리스트에서 400, 500를 삭제하는 code를 입력하세요.\n",
    "nums = [100, 200, 300, 400, 500]\n"
   ]
  }
 ],
 "metadata": {
  "kernelspec": {
   "display_name": "Python 3",
   "language": "python",
   "name": "python3"
  },
  "language_info": {
   "codemirror_mode": {
    "name": "ipython",
    "version": 3
   },
   "file_extension": ".py",
   "mimetype": "text/x-python",
   "name": "python",
   "nbconvert_exporter": "python",
   "pygments_lexer": "ipython3",
   "version": "3.7.4"
  }
 },
 "nbformat": 4,
 "nbformat_minor": 4
}
