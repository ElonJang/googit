{
 "cells": [
  {
   "cell_type": "markdown",
   "metadata": {},
   "source": [
    "Q1.리스트의 삭제\n",
    "다음리스트에서 400, 500를 삭제하는 code를 입력하세요.\n",
    "\n",
    "nums = [100, 200, 300, 400, 500]"
   ]
  },
  {
   "cell_type": "code",
   "execution_count": 2,
   "metadata": {},
   "outputs": [
    {
     "name": "stdout",
     "output_type": "stream",
     "text": [
      "[100, 200, 300]\n"
     ]
    }
   ],
   "source": [
    "nums = [100, 200, 300, 400, 500]\n",
    "nums.pop()\n",
    "nums.pop()\n",
    "print(nums)"
   ]
  },
  {
   "cell_type": "markdown",
   "metadata": {},
   "source": [
    "Q2.리스트의 내장함수\n",
    "1 = [200, 100, 300]\n",
    "<pass>\n",
    "print(1)\n",
    "    \n",
    "<pass> 부분에 리스트 내장함수를 insert를 이용하여 코드를 입력하고 다음과 같이 출력되게 하세요.\n",
    "    \n",
    ">> 출력\n",
    "[200, 100, 10000, 300]    "
   ]
  },
  {
   "cell_type": "code",
   "execution_count": 6,
   "metadata": {},
   "outputs": [
    {
     "name": "stdout",
     "output_type": "stream",
     "text": [
      "[200, 100, 10000, 300]\n"
     ]
    }
   ],
   "source": [
    "l= [200, 100, 300]\n",
    "l.insert(2, 10000)\n",
    "print(l)"
   ]
  },
  {
   "cell_type": "markdown",
   "metadata": {},
   "source": [
    "Q3.변수의 타입\n",
    "다음 출력 값으로 올바른 것은?\n",
    "l = [100, 200, 300]\n",
    "print(type(l))\n",
    "1)  class 'str'\n",
    "2)  class 'int'\n",
    "3)  class 'list'\n",
    "4)  class 'tuple'"
   ]
  }
 ],
 "metadata": {
  "kernelspec": {
   "display_name": "Python 3",
   "language": "python",
   "name": "python3"
  },
  "language_info": {
   "codemirror_mode": {
    "name": "ipython",
    "version": 3
   },
   "file_extension": ".py",
   "mimetype": "text/x-python",
   "name": "python",
   "nbconvert_exporter": "python",
   "pygments_lexer": "ipython3",
   "version": "3.7.4"
  }
 },
 "nbformat": 4,
 "nbformat_minor": 4
}
