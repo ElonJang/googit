{
 "cells": [
  {
   "cell_type": "code",
   "execution_count": null,
   "id": "potential-communist",
   "metadata": {},
   "outputs": [],
   "source": [
    "# PANDAS"
   ]
  },
  {
   "cell_type": "code",
   "execution_count": 2,
   "id": "described-bulgaria",
   "metadata": {},
   "outputs": [],
   "source": [
    "import pandas as pd"
   ]
  },
  {
   "cell_type": "code",
   "execution_count": 3,
   "id": "rising-boating",
   "metadata": {},
   "outputs": [
    {
     "data": {
      "text/plain": [
       "'1.2.1'"
      ]
     },
     "execution_count": 3,
     "metadata": {},
     "output_type": "execute_result"
    }
   ],
   "source": [
    "pd.__version__"
   ]
  },
  {
   "cell_type": "code",
   "execution_count": 4,
   "id": "tutorial-release",
   "metadata": {},
   "outputs": [],
   "source": [
    "import numpy as np"
   ]
  },
  {
   "cell_type": "code",
   "execution_count": 5,
   "id": "lovely-nickname",
   "metadata": {},
   "outputs": [
    {
     "data": {
      "text/plain": [
       "'1.19.5'"
      ]
     },
     "execution_count": 5,
     "metadata": {},
     "output_type": "execute_result"
    }
   ],
   "source": [
    "np.__version__"
   ]
  },
  {
   "cell_type": "code",
   "execution_count": 8,
   "id": "local-security",
   "metadata": {},
   "outputs": [],
   "source": [
    "pd? \n",
    "np? # ? 탭 누르면 명령문 나옴"
   ]
  },
  {
   "cell_type": "code",
   "execution_count": 9,
   "id": "complex-principal",
   "metadata": {},
   "outputs": [],
   "source": [
    "# 넘파이는 데이터 누락 허락하지만 판다스는 허락한다."
   ]
  },
  {
   "cell_type": "code",
   "execution_count": 10,
   "id": "toxic-crossing",
   "metadata": {},
   "outputs": [
    {
     "data": {
      "text/plain": [
       "0    100\n",
       "1    200\n",
       "2    300\n",
       "3    400\n",
       "4    500\n",
       "dtype: int64"
      ]
     },
     "execution_count": 10,
     "metadata": {},
     "output_type": "execute_result"
    }
   ],
   "source": [
    "data = [100, 200, 300 , 400, 500]\n",
    "pd.Series(data)\n"
   ]
  },
  {
   "cell_type": "code",
   "execution_count": 11,
   "id": "above-witch",
   "metadata": {},
   "outputs": [
    {
     "data": {
      "text/plain": [
       "4    500\n",
       "3    400\n",
       "2    300\n",
       "1    200\n",
       "0    100\n",
       "dtype: int64"
      ]
     },
     "execution_count": 11,
     "metadata": {},
     "output_type": "execute_result"
    }
   ],
   "source": [
    "pd.Series(data)[0]\n",
    "pd.Series(data)[0:3]\n",
    "pd.Series(data)[::-1]"
   ]
  },
  {
   "cell_type": "code",
   "execution_count": 12,
   "id": "southwest-radar",
   "metadata": {},
   "outputs": [
    {
     "data": {
      "text/plain": [
       "RangeIndex(start=0, stop=5, step=1)"
      ]
     },
     "execution_count": 12,
     "metadata": {},
     "output_type": "execute_result"
    }
   ],
   "source": [
    "d = pd.Series(data)\n",
    "d.values\n",
    "d.index"
   ]
  },
  {
   "cell_type": "code",
   "execution_count": 13,
   "id": "expanded-series",
   "metadata": {},
   "outputs": [],
   "source": [
    "d = pd.Series(data, index=['a', 'b', 'c', 'd', 'e'])"
   ]
  },
  {
   "cell_type": "code",
   "execution_count": 19,
   "id": "handy-elephant",
   "metadata": {},
   "outputs": [
    {
     "data": {
      "text/plain": [
       "a     200\n",
       "b     300\n",
       "c     400\n",
       "d,    500\n",
       "e     600\n",
       "dtype: int64"
      ]
     },
     "execution_count": 19,
     "metadata": {},
     "output_type": "execute_result"
    }
   ],
   "source": [
    "d + 100"
   ]
  },
  {
   "cell_type": "code",
   "execution_count": 26,
   "id": "recovered-cosmetic",
   "metadata": {},
   "outputs": [
    {
     "data": {
      "text/plain": [
       "a      200\n",
       "b      400\n",
       "c      600\n",
       "d,     800\n",
       "e     1000\n",
       "dtype: int64"
      ]
     },
     "execution_count": 26,
     "metadata": {},
     "output_type": "execute_result"
    }
   ],
   "source": [
    "d * 2"
   ]
  },
  {
   "cell_type": "code",
   "execution_count": 27,
   "id": "answering-geology",
   "metadata": {},
   "outputs": [
    {
     "data": {
      "text/plain": [
       "a      50\n",
       "b     100\n",
       "c     150\n",
       "d,    200\n",
       "e     250\n",
       "dtype: int64"
      ]
     },
     "execution_count": 27,
     "metadata": {},
     "output_type": "execute_result"
    }
   ],
   "source": [
    "d // 2"
   ]
  },
  {
   "cell_type": "code",
   "execution_count": 28,
   "id": "executive-chile",
   "metadata": {},
   "outputs": [
    {
     "data": {
      "text/plain": [
       "a      10000\n",
       "b      40000\n",
       "c      90000\n",
       "d,    160000\n",
       "e     250000\n",
       "dtype: int64"
      ]
     },
     "execution_count": 28,
     "metadata": {},
     "output_type": "execute_result"
    }
   ],
   "source": [
    "d ** 2"
   ]
  },
  {
   "cell_type": "code",
   "execution_count": 17,
   "id": "northern-confidence",
   "metadata": {},
   "outputs": [
    {
     "data": {
      "text/plain": [
       "100"
      ]
     },
     "execution_count": 17,
     "metadata": {},
     "output_type": "execute_result"
    }
   ],
   "source": [
    "d['a']"
   ]
  },
  {
   "cell_type": "code",
   "execution_count": 20,
   "id": "coordinate-miller",
   "metadata": {},
   "outputs": [
    {
     "data": {
      "text/plain": [
       "e     500\n",
       "d,    400\n",
       "c     300\n",
       "b     200\n",
       "a     100\n",
       "dtype: int64"
      ]
     },
     "execution_count": 20,
     "metadata": {},
     "output_type": "execute_result"
    }
   ],
   "source": [
    "d[::-1]"
   ]
  },
  {
   "cell_type": "code",
   "execution_count": 21,
   "id": "opened-cloud",
   "metadata": {},
   "outputs": [
    {
     "data": {
      "text/plain": [
       "a    100\n",
       "c    300\n",
       "e    500\n",
       "dtype: int64"
      ]
     },
     "execution_count": 21,
     "metadata": {},
     "output_type": "execute_result"
    }
   ],
   "source": [
    "d[::2]"
   ]
  },
  {
   "cell_type": "code",
   "execution_count": 22,
   "id": "premier-tuner",
   "metadata": {},
   "outputs": [
    {
     "data": {
      "text/plain": [
       "100"
      ]
     },
     "execution_count": 22,
     "metadata": {},
     "output_type": "execute_result"
    }
   ],
   "source": [
    "d.a"
   ]
  },
  {
   "cell_type": "code",
   "execution_count": 23,
   "id": "executed-maximum",
   "metadata": {},
   "outputs": [
    {
     "data": {
      "text/plain": [
       "200"
      ]
     },
     "execution_count": 23,
     "metadata": {},
     "output_type": "execute_result"
    }
   ],
   "source": [
    "d.b"
   ]
  },
  {
   "cell_type": "code",
   "execution_count": 25,
   "id": "prime-plate",
   "metadata": {},
   "outputs": [
    {
     "data": {
      "text/plain": [
       "300"
      ]
     },
     "execution_count": 25,
     "metadata": {},
     "output_type": "execute_result"
    }
   ],
   "source": [
    "d.c"
   ]
  },
  {
   "cell_type": "code",
   "execution_count": 29,
   "id": "varied-springfield",
   "metadata": {},
   "outputs": [
    {
     "data": {
      "text/plain": [
       "d,    400\n",
       "e     500\n",
       "dtype: int64"
      ]
     },
     "execution_count": 29,
     "metadata": {},
     "output_type": "execute_result"
    }
   ],
   "source": [
    "d[d > 300]"
   ]
  },
  {
   "cell_type": "code",
   "execution_count": 30,
   "id": "intended-outside",
   "metadata": {},
   "outputs": [
    {
     "data": {
      "text/plain": [
       "a     False\n",
       "b     False\n",
       "c     False\n",
       "d,     True\n",
       "e      True\n",
       "dtype: bool"
      ]
     },
     "execution_count": 30,
     "metadata": {},
     "output_type": "execute_result"
    }
   ],
   "source": [
    "d > 300"
   ]
  },
  {
   "cell_type": "code",
   "execution_count": 31,
   "id": "relative-volume",
   "metadata": {},
   "outputs": [
    {
     "name": "stdout",
     "output_type": "stream",
     "text": [
      "100\n",
      "200\n",
      "300\n",
      "400\n",
      "500\n"
     ]
    }
   ],
   "source": [
    "for i in d:\n",
    "    print(i)"
   ]
  },
  {
   "cell_type": "code",
   "execution_count": 36,
   "id": "czech-brunei",
   "metadata": {},
   "outputs": [
    {
     "data": {
      "text/plain": [
       "2015년     1000000\n",
       "2016년     2000000\n",
       "2017년     3000000\n",
       "2018년     4000000\n",
       "2019년    11000000\n",
       "2020년    30000000\n",
       "dtype: int64"
      ]
     },
     "execution_count": 36,
     "metadata": {},
     "output_type": "execute_result"
    }
   ],
   "source": [
    "dic = {\n",
    "    '2015년':1000000,\n",
    "    '2016년':2000000,\n",
    "    '2017년':3000000,\n",
    "    '2018년':4000000,\n",
    "    '2019년':11000000,\n",
    "    '2020년':30000000,\n",
    "    \n",
    "}\n",
    "pd.Series(dic)"
   ]
  },
  {
   "cell_type": "code",
   "execution_count": 37,
   "id": "velvet-orbit",
   "metadata": {},
   "outputs": [
    {
     "data": {
      "text/plain": [
       "2018년     4000000\n",
       "2019년    11000000\n",
       "2020년    30000000\n",
       "dtype: int64"
      ]
     },
     "execution_count": 37,
     "metadata": {},
     "output_type": "execute_result"
    }
   ],
   "source": [
    "pd.Series(dic)['2018년':]"
   ]
  },
  {
   "cell_type": "code",
   "execution_count": 38,
   "id": "worldwide-battlefield",
   "metadata": {},
   "outputs": [
    {
     "data": {
      "text/plain": [
       "2018년     4000000\n",
       "2019년    11000000\n",
       "2020년    30000000\n",
       "dtype: int64"
      ]
     },
     "execution_count": 38,
     "metadata": {},
     "output_type": "execute_result"
    }
   ],
   "source": [
    "pd.Series(dic)[-3:]"
   ]
  },
  {
   "cell_type": "code",
   "execution_count": 40,
   "id": "caring-eligibility",
   "metadata": {},
   "outputs": [
    {
     "data": {
      "text/plain": [
       "2017년     3000000\n",
       "2019년    11000000\n",
       "2020년    30000000\n",
       "dtype: int64"
      ]
     },
     "execution_count": 40,
     "metadata": {},
     "output_type": "execute_result"
    }
   ],
   "source": [
    "dic = {\n",
    "    '2015년':1000000,\n",
    "    '2016년':2000000,\n",
    "    '2017년':3000000,\n",
    "    '2018년':4000000,\n",
    "    '2019년':11000000,\n",
    "    '2020년':30000000,\n",
    "    \n",
    "}\n",
    "pd.Series(dic, index=['2017년', '2019년', '2020년'])"
   ]
  },
  {
   "cell_type": "code",
   "execution_count": null,
   "id": "weighted-campus",
   "metadata": {},
   "outputs": [],
   "source": []
  }
 ],
 "metadata": {
  "kernelspec": {
   "display_name": "Python 3",
   "language": "python",
   "name": "python3"
  },
  "language_info": {
   "codemirror_mode": {
    "name": "ipython",
    "version": 3
   },
   "file_extension": ".py",
   "mimetype": "text/x-python",
   "name": "python",
   "nbconvert_exporter": "python",
   "pygments_lexer": "ipython3",
   "version": "3.7.4"
  }
 },
 "nbformat": 4,
 "nbformat_minor": 5
}
