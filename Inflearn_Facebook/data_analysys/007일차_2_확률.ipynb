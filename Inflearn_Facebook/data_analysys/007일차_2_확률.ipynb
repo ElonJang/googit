{
 "cells": [
  {
   "cell_type": "markdown",
   "metadata": {},
   "source": [
    "### 동전 2개를 던졌을 때 앞면의 개수\n",
    "```\n",
    "x       0      1      2\n",
    "P(x)   1/4    1/2    1/4\n",
    "```"
   ]
  },
  {
   "cell_type": "code",
   "execution_count": 1,
   "metadata": {},
   "outputs": [
    {
     "data": {
      "text/plain": [
       "array([1, 0, 1], dtype=int32)"
      ]
     },
     "execution_count": 1,
     "metadata": {},
     "output_type": "execute_result"
    }
   ],
   "source": [
    "import numpy as np\n",
    "\n",
    "평균 = 1\n",
    "확률 = [1/4, 1/2, 1/4]\n",
    "편차 = np.array([-1, 0, 1])\n",
    "편차의제곱 = 편차**2\n",
    "편차의제곱"
   ]
  },
  {
   "cell_type": "code",
   "execution_count": 2,
   "metadata": {},
   "outputs": [
    {
     "data": {
      "text/plain": [
       "0.5"
      ]
     },
     "execution_count": 2,
     "metadata": {},
     "output_type": "execute_result"
    }
   ],
   "source": [
    "sum(편차의제곱*확률)"
   ]
  },
  {
   "cell_type": "markdown",
   "metadata": {},
   "source": [
    "### 공분산"
   ]
  },
  {
   "cell_type": "code",
   "execution_count": 3,
   "metadata": {},
   "outputs": [],
   "source": [
    "수학점수 = []\n",
    "컴퓨터점수 = []\n",
    "for i in range(100):\n",
    "    if i > 20 and i < 80: \n",
    "        수학점수.append(i + np.random.randint(1, 30))\n",
    "        컴퓨터점수.append(i + np.random.randint(1, 30))\n",
    "    else:\n",
    "        수학점수.append(i + np.random.randint(1, 10))\n",
    "        컴퓨터점수.append(i + np.random.randint(1, 10))"
   ]
  },
  {
   "cell_type": "code",
   "execution_count": 4,
   "metadata": {},
   "outputs": [
    {
     "data": {
      "image/png": "[encoded data removed]",
      "text/plain": [
       "<Figure size 432x288 with 1 Axes>"
      ]
     },
     "metadata": {
      "needs_background": "light"
     },
     "output_type": "display_data"
    }
   ],
   "source": [
    "import matplotlib.pyplot as plt\n",
    "%matplotlib inline\n",
    "\n",
    "plt.scatter(수학점수, 컴퓨터점수)\n",
    "plt.xlabel('math')\n",
    "plt.ylabel('computer')\n",
    "plt.show()"
   ]
  },
  {
   "cell_type": "code",
   "execution_count": null,
   "metadata": {},
   "outputs": [],
   "source": [
    "# 평균(mean): np.mean(x)\n",
    "# 표준편차(standard deviation) : np.std(x)\n",
    "# 분산(variance) : np.var(x)\n",
    "\n",
    "# 1사분면 = (x - np.mean(x)(y - np.mean(y))\n",
    "#           (90 - 50)(90 - 50) = 1600\n",
    "# 2사분면 = (x - np.mean(x)(y - np.mean(y))\n",
    "#           (40 - 50)(60 - 50) = -100\n",
    "# 3사분면 = (x - np.mean(x)(y - np.mean(y))\n",
    "#           (20 - 50)(20 - 50) = 900\n",
    "# 4사분면 = (x - np.mean(x)(y - np.mean(y))\n",
    "#           (70 - 50)(40 - 50) = -200"
   ]
  }
 ],
 "metadata": {
  "kernelspec": {
   "display_name": "Python 3",
   "language": "python",
   "name": "python3"
  },
  "language_info": {
   "codemirror_mode": {
    "name": "ipython",
    "version": 3
   },
   "file_extension": ".py",
   "mimetype": "text/x-python",
   "name": "python",
   "nbconvert_exporter": "python",
   "pygments_lexer": "ipython3",
   "version": "3.7.6"
  }
 },
 "nbformat": 4,
 "nbformat_minor": 4
}
