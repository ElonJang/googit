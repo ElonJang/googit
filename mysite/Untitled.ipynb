{
 "cells": [
  {
   "cell_type": "code",
   "execution_count": 1,
   "id": "meaningful-salmon",
   "metadata": {},
   "outputs": [],
   "source": [
    "import os\n",
    "\n",
    "#manage.py 참고하세요\n",
    "os.environ['DJANGO_SETTINGS_MODULE'] = 'tutorialdjango.settings'\n",
    "os.environ['DJANGO_ALLOW_ASYNC_UNSAFE'] = 'true'"
   ]
  },
  {
   "cell_type": "code",
   "execution_count": 2,
   "id": "numerous-space",
   "metadata": {},
   "outputs": [],
   "source": [
    "import django\n",
    "\n",
    "django.setup()"
   ]
  },
  {
   "cell_type": "code",
   "execution_count": 3,
   "id": "charged-creek",
   "metadata": {},
   "outputs": [],
   "source": [
    "from main.models import Cafe"
   ]
  },
  {
   "cell_type": "code",
   "execution_count": 4,
   "id": "fancy-award",
   "metadata": {},
   "outputs": [
    {
     "data": {
      "text/plain": [
       "<QuerySet [<Cafe: cafename1>, <Cafe: cafename2>, <Cafe: cafename3>]>"
      ]
     },
     "execution_count": 4,
     "metadata": {},
     "output_type": "execute_result"
    }
   ],
   "source": [
    "Cafe.objects.all()"
   ]
  },
  {
   "cell_type": "code",
   "execution_count": null,
   "id": "younger-anxiety",
   "metadata": {},
   "outputs": [],
   "source": []
  }
 ],
 "metadata": {
  "kernelspec": {
   "display_name": "Python 3",
   "language": "python",
   "name": "python3"
  },
  "language_info": {
   "codemirror_mode": {
    "name": "ipython",
    "version": 3
   },
   "file_extension": ".py",
   "mimetype": "text/x-python",
   "name": "python",
   "nbconvert_exporter": "python",
   "pygments_lexer": "ipython3",
   "version": "3.7.4"
  }
 },
 "nbformat": 4,
 "nbformat_minor": 5
}
