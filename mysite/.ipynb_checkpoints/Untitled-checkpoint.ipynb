{
 "cells": [
  {
   "cell_type": "code",
   "execution_count": null,
   "id": "ongoing-links",
   "metadata": {},
   "outputs": [],
   "source": [
    "import os\n",
    "\n",
    "#manage.py 참고하세요\n",
    "os.environ['DJANGO_SETTINGS_MODULE'] = 'tutorialdjango.settings'\n",
    "os.environ['DJANGO_ALLOW_ASYNC_UNSAFE'] = 'true'"
   ]
  }
 ],
 "metadata": {
  "kernelspec": {
   "display_name": "Python 3",
   "language": "python",
   "name": "python3"
  },
  "language_info": {
   "codemirror_mode": {
    "name": "ipython",
    "version": 3
   },
   "file_extension": ".py",
   "mimetype": "text/x-python",
   "name": "python",
   "nbconvert_exporter": "python",
   "pygments_lexer": "ipython3",
   "version": "3.7.4"
  }
 },
 "nbformat": 4,
 "nbformat_minor": 5
}
