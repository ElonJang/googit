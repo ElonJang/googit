{
 "cells": [
  {
   "cell_type": "code",
   "execution_count": 1,
   "metadata": {},
   "outputs": [
    {
     "data": {
      "text/plain": [
       "4000"
      ]
     },
     "execution_count": 1,
     "metadata": {},
     "output_type": "execute_result"
    }
   ],
   "source": [
    "str(list(range(10001))).count('8')"
   ]
  },
  {
   "cell_type": "markdown",
   "metadata": {},
   "source": [
    "  1부터 10000까지 8이라는 숫자가 몇번 나오는지 구하시오."
   ]
  },
  {
   "cell_type": "code",
   "execution_count": 8,
   "metadata": {},
   "outputs": [],
   "source": [
    "str(list(range(1000001))).count('8')\n",
    "s = 0\n",
    "for i in range(100000000):\n",
    "    s += i"
   ]
  },
  {
   "cell_type": "raw",
   "metadata": {},
   "source": [
    "1차원 점들이 주어졌을떄, 그 중 가장 거리가 짧은 쌍을 출력하는 함수를 작성하시오\n",
    "예를들어 s={1,3,4,8,13,17,20}이 주어졌다면, 결과값은(3,4)가 될 걳이다."
   ]
  },
  {
   "cell_type": "code",
   "execution_count": 5,
   "metadata": {},
   "outputs": [
    {
     "data": {
      "text/plain": [
       "(3, 4)"
      ]
     },
     "execution_count": 5,
     "metadata": {},
     "output_type": "execute_result"
    }
   ],
   "source": [
    "s = [1, 3, 4, 8, 13, 17, 20]\n",
    "m = max(s)\n",
    "index = 0\n",
    "for i in range(len(s)-1):\n",
    "    if m > s[i+1] - s[i]:\n",
    "        index = i\n",
    "        m = s[i+1] - s[i]\n",
    "\n",
    "s[index], s[index+1]"
   ]
  },
  {
   "cell_type": "code",
   "execution_count": 10,
   "metadata": {},
   "outputs": [
    {
     "data": {
      "text/plain": [
       "[(1, 3), (3, 4), (4, 8), (8, 13), (13, 17), (17, 20)]"
      ]
     },
     "execution_count": 10,
     "metadata": {},
     "output_type": "execute_result"
    }
   ],
   "source": [
    "s = [1, 3, 4, 8, 13, 17, 20]\n",
    "ss =[3, 4, 8, 13, 17, 20]\n",
    "\n",
    "list(zip(s, ss))"
   ]
  },
  {
   "cell_type": "code",
   "execution_count": 11,
   "metadata": {},
   "outputs": [
    {
     "data": {
      "text/plain": [
       "[(1, 3), (3, 4), (4, 8), (8, 13), (13, 17), (17, 20)]"
      ]
     },
     "execution_count": 11,
     "metadata": {},
     "output_type": "execute_result"
    }
   ],
   "source": [
    "sorted(list(zip(s, ss)))"
   ]
  },
  {
   "cell_type": "code",
   "execution_count": 12,
   "metadata": {},
   "outputs": [
    {
     "data": {
      "text/plain": [
       "[(3, 4), (1, 3), (17, 20), (4, 8), (13, 17), (8, 13)]"
      ]
     },
     "execution_count": 12,
     "metadata": {},
     "output_type": "execute_result"
    }
   ],
   "source": [
    "sorted(list(zip(s, ss)), key=lambda i: i[1] - i[0])"
   ]
  },
  {
   "cell_type": "code",
   "execution_count": 13,
   "metadata": {},
   "outputs": [
    {
     "data": {
      "text/plain": [
       "(3, 4)"
      ]
     },
     "execution_count": 13,
     "metadata": {},
     "output_type": "execute_result"
    }
   ],
   "source": [
    "sorted(list(zip(s, ss)), key=lambda i: i[1] - i[0])[0]"
   ]
  },
  {
   "cell_type": "markdown",
   "metadata": {},
   "source": [
    "## 3번 2018 카카오 입사문제"
   ]
  },
  {
   "cell_type": "code",
   "execution_count": 29,
   "metadata": {},
   "outputs": [],
   "source": [
    "arr1 = [3, 20, 28, 18, 11]\n",
    "arr2 = [30, 1, 21, 17, 29]\n",
    "\n",
    "#[\"#####\",\"# # #\",\"### #\", \"# ##\", \"#####\"]"
   ]
  },
  {
   "cell_type": "code",
   "execution_count": 30,
   "metadata": {},
   "outputs": [
    {
     "data": {
      "text/plain": [
       "'11110'"
      ]
     },
     "execution_count": 30,
     "metadata": {},
     "output_type": "execute_result"
    }
   ],
   "source": [
    "bin(9)[2:]\n",
    "bin(30)[2:]"
   ]
  },
  {
   "cell_type": "code",
   "execution_count": 31,
   "metadata": {},
   "outputs": [
    {
     "data": {
      "text/plain": [
       "'#####'"
      ]
     },
     "execution_count": 31,
     "metadata": {},
     "output_type": "execute_result"
    }
   ],
   "source": [
    "bin(9 | 30)[2:]\n",
    "bin(9 | 30)[2:].replace('1', '#').replace('0', ' ')"
   ]
  },
  {
   "cell_type": "code",
   "execution_count": 32,
   "metadata": {},
   "outputs": [
    {
     "name": "stdout",
     "output_type": "stream",
     "text": [
      "(3, 30)\n",
      "(20, 1)\n",
      "(28, 21)\n",
      "(18, 17)\n",
      "(11, 29)\n"
     ]
    }
   ],
   "source": [
    "for i in zip(arr1, arr2):\n",
    "    print(i)"
   ]
  },
  {
   "cell_type": "code",
   "execution_count": 33,
   "metadata": {},
   "outputs": [
    {
     "name": "stdout",
     "output_type": "stream",
     "text": [
      "#####\n",
      "# # #\n",
      "### #\n",
      "#  ##\n",
      "#####\n"
     ]
    }
   ],
   "source": [
    "for i, j in zip(arr1, arr2):\n",
    "    print(bin (i | j)[2:].replace('1', '#').replace('0', ' '))"
   ]
  },
  {
   "cell_type": "code",
   "execution_count": 34,
   "metadata": {},
   "outputs": [
    {
     "name": "stdout",
     "output_type": "stream",
     "text": [
      "#####\n",
      "# # #\n",
      "### #\n",
      "#  ##\n",
      "#####\n"
     ]
    }
   ],
   "source": [
    "n=5\n",
    "arr1 = [3, 20, 28, 18, 11]\n",
    "arr2 = [30, 1, 21, 17, 29]\n",
    "\n",
    "#출력 : [\"#####\",\"# # #\",\"### #\", \"# ##\", \"#####\"]\n",
    "for i, j in zip(arr1, arr2):\n",
    "    print(bin (i | j)[2:].replace('1', '#').replace('0', ' '))"
   ]
  },
  {
   "cell_type": "markdown",
   "metadata": {},
   "source": [
    "2. 다트 게임(난이도: 하)"
   ]
  },
  {
   "cell_type": "code",
   "execution_count": 48,
   "metadata": {},
   "outputs": [],
   "source": [
    "def solution(dartResult):\n",
    "    for i in dartResult:\n",
    "        if i == 'S':\n",
    "            점수[-1] **= 1\n",
    "            점수.append(0)\n",
    "        elif i == 'D':\n",
    "            점수[-1] **= 2\n",
    "            점수.append(0)\n",
    "        elif i == 'T':\n",
    "            점수[-1] **= 3\n",
    "            점수.append(0)\n",
    "        elif i == '*':\n",
    "            점수[-1] *= 2\n",
    "            점수.append(0)\n",
    "        elif i == '#':\n",
    "            점수.append(0)\n",
    "        else:\n",
    "            점수[-1] = int(i)\n",
    "    return sum(점수)\n",
    "        "
   ]
  },
  {
   "cell_type": "code",
   "execution_count": 38,
   "metadata": {},
   "outputs": [
    {
     "data": {
      "text/plain": [
       "[('1', 'S', ''), ('2', 'D', '*'), ('3', 'T', '')]"
      ]
     },
     "execution_count": 38,
     "metadata": {},
     "output_type": "execute_result"
    }
   ],
   "source": [
    "# 정규표현식으로 풀기\n",
    "import re\n",
    "\n",
    "testcase = ['1S2D*3T']\n",
    "패턴 = re.compile(r'([0-9]|10)([SDT])([W*%]?)')\n",
    "패턴.findall(testcase[0])"
   ]
  },
  {
   "cell_type": "code",
   "execution_count": 47,
   "metadata": {},
   "outputs": [
    {
     "ename": "TypeError",
     "evalue": "unsupported operand type(s) for ** or pow(): 'str' and 'int'",
     "output_type": "error",
     "traceback": [
      "\u001b[0;31m---------------------------------------------------------------------------\u001b[0m",
      "\u001b[0;31mTypeError\u001b[0m                                 Traceback (most recent call last)",
      "\u001b[0;32m<ipython-input-47-dda5a924e8dc>\u001b[0m in \u001b[0;36m<module>\u001b[0;34m\u001b[0m\n\u001b[1;32m     19\u001b[0m     \u001b[0;32mreturn\u001b[0m \u001b[0msum\u001b[0m\u001b[0;34m(\u001b[0m\u001b[0m점수\u001b[0m\u001b[0;34m)\u001b[0m\u001b[0;34m\u001b[0m\u001b[0;34m\u001b[0m\u001b[0m\n\u001b[1;32m     20\u001b[0m \u001b[0;34m\u001b[0m\u001b[0m\n\u001b[0;32m---> 21\u001b[0;31m \u001b[0msolution\u001b[0m\u001b[0;34m(\u001b[0m\u001b[0;34m'1S2D*3T'\u001b[0m\u001b[0;34m)\u001b[0m\u001b[0;34m\u001b[0m\u001b[0;34m\u001b[0m\u001b[0m\n\u001b[0m",
      "\u001b[0;32m<ipython-input-47-dda5a924e8dc>\u001b[0m in \u001b[0;36msolution\u001b[0;34m(dartResult)\u001b[0m\n\u001b[1;32m      8\u001b[0m             \u001b[0m점수\u001b[0m\u001b[0;34m.\u001b[0m \u001b[0mappend\u001b[0m\u001b[0;34m(\u001b[0m\u001b[0m정수점수\u001b[0m\u001b[0;34m)\u001b[0m\u001b[0;34m\u001b[0m\u001b[0;34m\u001b[0m\u001b[0m\n\u001b[1;32m      9\u001b[0m         \u001b[0;32melif\u001b[0m \u001b[0m승수\u001b[0m \u001b[0;34m==\u001b[0m \u001b[0;34m'D'\u001b[0m\u001b[0;34m:\u001b[0m\u001b[0;34m\u001b[0m\u001b[0;34m\u001b[0m\u001b[0m\n\u001b[0;32m---> 10\u001b[0;31m             \u001b[0m점수\u001b[0m\u001b[0;34m.\u001b[0m \u001b[0mappend\u001b[0m\u001b[0;34m(\u001b[0m\u001b[0m정수점수\u001b[0m\u001b[0;34m**\u001b[0m\u001b[0;36m2\u001b[0m\u001b[0;34m)\u001b[0m\u001b[0;34m\u001b[0m\u001b[0;34m\u001b[0m\u001b[0m\n\u001b[0m\u001b[1;32m     11\u001b[0m         \u001b[0;32melif\u001b[0m \u001b[0m승수\u001b[0m \u001b[0;34m==\u001b[0m \u001b[0;34m'T'\u001b[0m\u001b[0;34m:\u001b[0m\u001b[0;34m\u001b[0m\u001b[0;34m\u001b[0m\u001b[0m\n\u001b[1;32m     12\u001b[0m             \u001b[0m점수\u001b[0m\u001b[0;34m.\u001b[0m \u001b[0mappend\u001b[0m\u001b[0;34m(\u001b[0m\u001b[0m정수점수\u001b[0m\u001b[0;34m**\u001b[0m\u001b[0;36m3\u001b[0m\u001b[0;34m)\u001b[0m\u001b[0;34m\u001b[0m\u001b[0;34m\u001b[0m\u001b[0m\n",
      "\u001b[0;31mTypeError\u001b[0m: unsupported operand type(s) for ** or pow(): 'str' and 'int'"
     ]
    }
   ],
   "source": [
    "import re\n",
    "\n",
    "def solution(dartResult):\n",
    "    패턴 = re.compile(r'([0-9]|10)([SDT])([W*%]?)')\n",
    "    점수 = []\n",
    "    for 정수점수, 승수, 상 in 패턴.findall(dartResult):\n",
    "        if 승수 == 'S':\n",
    "            점수. append(정수점수)\n",
    "        elif 승수 == 'D':\n",
    "            점수. append(정수점수**2)\n",
    "        elif 승수 == 'T':\n",
    "            점수. append(정수점수**3)\n",
    "        elif i == '*':\n",
    "            점수[-1] *= 2\n",
    "            if len(점수) >2:\n",
    "                점수[-2] *= 2\n",
    "        elif i == '#':\n",
    "            점수[-1] * -1\n",
    "    return sum(점수)\n",
    "\n",
    "solution('1S2D*3T')"
   ]
  },
  {
   "cell_type": "code",
   "execution_count": null,
   "metadata": {},
   "outputs": [],
   "source": []
  }
 ],
 "metadata": {
  "kernelspec": {
   "display_name": "Python 3",
   "language": "python",
   "name": "python3"
  },
  "language_info": {
   "codemirror_mode": {
    "name": "ipython",
    "version": 3
   },
   "file_extension": ".py",
   "mimetype": "text/x-python",
   "name": "python",
   "nbconvert_exporter": "python",
   "pygments_lexer": "ipython3",
   "version": "3.7.4"
  }
 },
 "nbformat": 4,
 "nbformat_minor": 4
}
